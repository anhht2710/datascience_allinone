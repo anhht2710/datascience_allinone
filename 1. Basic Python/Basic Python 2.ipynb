{
 "cells": [
  {
   "cell_type": "markdown",
   "id": "c1f900f4-fd44-4edc-994f-afe0b4eea0cc",
   "metadata": {},
   "source": [
    "## Content:\n",
    "**1. [For Loop](#part1)** \\\n",
    "**2. [While Loop](#part2)** \\\n",
    "**3. [String](#part3)** \\\n",
    "**4. [File](#part4)**    \\\n",
    "**5. [Conditions If-else](#part5)**   \n",
    "**6. [Overflow and Underflow](#part6)**   "
   ]
  },
  {
   "cell_type": "markdown",
   "id": "e65afff7-4aec-4d03-a875-4ad91270b6b1",
   "metadata": {},
   "source": [
    "## 1. For Loop <a name=\"part1\"></a>"
   ]
  },
  {
   "cell_type": "code",
   "execution_count": 1,
   "id": "d548afeb-3db9-437c-8694-4e6d8f161e0c",
   "metadata": {},
   "outputs": [
    {
     "name": "stdout",
     "output_type": "stream",
     "text": [
      "apple\n",
      "banana\n",
      "melon\n",
      "peach\n"
     ]
    }
   ],
   "source": [
    "#iterate a list\n",
    "\n",
    "fruits = ['apple', 'banana', 'melon', 'peach']\n",
    "\n",
    "for fruit in fruits:\n",
    "    print(fruit)"
   ]
  },
  {
   "cell_type": "code",
   "execution_count": 2,
   "id": "7c6ebe43-6821-4bb1-99c2-eeb471eb7f2e",
   "metadata": {},
   "outputs": [
    {
     "name": "stdout",
     "output_type": "stream",
     "text": [
      "Z\n",
      "u\n",
      "s\n",
      "a\n",
      "m\n",
      "m\n",
      "e\n",
      "n\n"
     ]
    }
   ],
   "source": [
    "#iterate a string\n",
    "\n",
    "greeting = 'Zusammen'\n",
    "\n",
    "for char in greeting:\n",
    "    print(char)"
   ]
  },
  {
   "cell_type": "code",
   "execution_count": 3,
   "id": "e27a0e5d-67b3-4c0d-b34b-e1a7faf55ddd",
   "metadata": {},
   "outputs": [
    {
     "name": "stdout",
     "output_type": "stream",
     "text": [
      "learning_rate 0.1\n",
      "optimizer Adam\n",
      "metric Accuracy\n"
     ]
    }
   ],
   "source": [
    "# iterate a dictionary\n",
    "parameters = {'learning_rate': 0.1, \n",
    "              'optimizer': 'Adam', \n",
    "              'metric': 'Accuracy'}\n",
    "\n",
    "for key in parameters:\n",
    "    print(key, parameters.get(key))"
   ]
  },
  {
   "cell_type": "code",
   "execution_count": 4,
   "id": "b1630054-d69b-4fa6-ad9a-0d627226b24c",
   "metadata": {},
   "outputs": [
    {
     "name": "stdout",
     "output_type": "stream",
     "text": [
      "apple\n",
      "banana\n",
      "melon\n"
     ]
    }
   ],
   "source": [
    "# iterate a tuple\n",
    "fruits = ('apple', 'banana', 'melon')\n",
    "\n",
    "for fruit in fruits:\n",
    "    print(fruit)"
   ]
  },
  {
   "cell_type": "code",
   "execution_count": 5,
   "id": "51378348-c362-441f-beee-4eb166f582bb",
   "metadata": {},
   "outputs": [
    {
     "name": "stdout",
     "output_type": "stream",
     "text": [
      "0\n",
      "1\n",
      "2\n",
      "3\n",
      "4\n"
     ]
    }
   ],
   "source": [
    "# use range()\n",
    "for i in range(5):\n",
    "    print(i)"
   ]
  },
  {
   "cell_type": "code",
   "execution_count": 1,
   "id": "f1ef2ffe-425d-41f4-b25f-8755da40ef8f",
   "metadata": {},
   "outputs": [
    {
     "name": "stdout",
     "output_type": "stream",
     "text": [
      "0\n",
      "1\n",
      "2\n",
      "3\n",
      "4\n"
     ]
    }
   ],
   "source": [
    "r = range(5)\n",
    "for i in r:\n",
    "    print(i)"
   ]
  },
  {
   "cell_type": "code",
   "execution_count": 2,
   "id": "1517493e-33ea-4c6a-9fc4-8d17eb1da24d",
   "metadata": {},
   "outputs": [
    {
     "name": "stdout",
     "output_type": "stream",
     "text": [
      "Hello everyone!\n",
      "The current value of i : 0\n",
      "Hello everyone!\n",
      "The current value of i : 1\n",
      "Hello everyone!\n",
      "The current value of i : 2\n",
      "Hello everyone!\n",
      "The current value of i : 3\n",
      "Hello everyone!\n",
      "The current value of i : 4\n"
     ]
    }
   ],
   "source": [
    "for i in range(5):\n",
    "    print('Hello everyone!')\n",
    "    print('The current value of i :', i)"
   ]
  },
  {
   "cell_type": "code",
   "execution_count": 6,
   "id": "dd801c01-4d24-42be-823a-ee1fb4f71e44",
   "metadata": {},
   "outputs": [
    {
     "name": "stdout",
     "output_type": "stream",
     "text": [
      "The value of i is 0\n",
      "The value of i is 1\n",
      "The value of i is 2\n",
      "The value of i is 3\n",
      "The value of i is 4\n"
     ]
    }
   ],
   "source": [
    "# iterate through elements in range(10)\n",
    "for i in range(10):\n",
    "    # check if the element i is equal to 5\n",
    "    if i == 5:\n",
    "        # if it is, exit this for loop\n",
    "        break\n",
    "    \n",
    "    # do something with i    \n",
    "    print('The value of i is', i)\n"
   ]
  },
  {
   "cell_type": "code",
   "execution_count": 7,
   "id": "535ab72e-db74-4e52-badd-81a64f73c1d5",
   "metadata": {
    "scrolled": true
   },
   "outputs": [
    {
     "name": "stdout",
     "output_type": "stream",
     "text": [
      "The value of i is 0\n",
      "The value of i is 1\n",
      "The value of i is 2\n",
      "The value of i is 3\n",
      "The value of i is 4\n",
      "The value of i is 6\n",
      "The value of i is 7\n",
      "The value of i is 8\n",
      "The value of i is 9\n"
     ]
    }
   ],
   "source": [
    "# iterate through elements in range(10)\n",
    "for i in range(10):\n",
    "    # check if the element i is equal to 5\n",
    "    if i == 5:\n",
    "        # if it is, call continue\n",
    "        # the code after continue will not\n",
    "        # be executed in this iteration\n",
    "        continue\n",
    "\n",
    "    # do something with i\n",
    "    print('The value of i is', i)\n"
   ]
  },
  {
   "cell_type": "markdown",
   "id": "7b69365c-4dd1-4462-a426-093256bf32de",
   "metadata": {},
   "source": [
    "### PI Estimation\n",
    "**Gregory-Leibniz Series**\n",
    "$$\n",
    "PI \\approx 4 \\sum_{i=1}^{n} \\frac{(-1)^{i+1}}{2i - 1}\n",
    "$$\n"
   ]
  },
  {
   "cell_type": "code",
   "execution_count": 9,
   "id": "731605b3-eb3f-48e6-bbb5-8c22dc4e280f",
   "metadata": {},
   "outputs": [
    {
     "name": "stdout",
     "output_type": "stream",
     "text": [
      "Estimated PI is  3.1414926535900345\n"
     ]
    }
   ],
   "source": [
    "# Gregory-Leibniz Series\n",
    "\n",
    "n = 10000\n",
    "PI = 0\n",
    "for i in range(1, n+1):\n",
    "    PI = PI + (-1)**(i+1) / (2*i - 1)\n",
    "PI = PI*4\n",
    "\n",
    "print('Estimated PI is ', PI)"
   ]
  },
  {
   "cell_type": "markdown",
   "id": "c20b7aea-0a62-4026-98f8-1249fd0c6a6f",
   "metadata": {},
   "source": [
    "**Nilakantha Series**\n",
    "$$\n",
    "PI \\approx 3 + 4 \\sum_{i=0}^{n} \\frac{-1^i}{(2i + 2)(2i + 3)(2i + 4)}\n",
    "$$\n"
   ]
  },
  {
   "cell_type": "code",
   "execution_count": 10,
   "id": "c2ceb211-54e6-4113-98f0-16d9b80fc2ff",
   "metadata": {},
   "outputs": [
    {
     "name": "stdout",
     "output_type": "stream",
     "text": [
      "Estimated PI is  3.1414067184965018\n"
     ]
    }
   ],
   "source": [
    "# Nilakantha Series\n",
    "\n",
    "n = 10\n",
    "PI = 0\n",
    "for i in range(n):\n",
    "    PI = PI + (-1)**(i) / ((2*i+2)*(2*i+3)*(2*i+4))\n",
    "PI = 3 + 4*PI\n",
    "\n",
    "print('Estimated PI is ', PI)"
   ]
  },
  {
   "cell_type": "code",
   "execution_count": 17,
   "id": "e2782a64-e93b-4a3e-9de6-63ff3cdae1a0",
   "metadata": {},
   "outputs": [
    {
     "name": "stdout",
     "output_type": "stream",
     "text": [
      "362880\n",
      "2.7182815255731922\n"
     ]
    }
   ],
   "source": [
    "# function to calculate factorial\n",
    "def factorial(n):\n",
    "    result = 1\n",
    "    \n",
    "    for i in range(2, n+1):\n",
    "        result = result * i\n",
    "        \n",
    "    return result\n",
    "\n",
    "\n",
    "# function to estimate the value of e\n",
    "def estimate_e(n):\n",
    "    result = 1\n",
    "    \n",
    "    for i in range(1, n+1):\n",
    "        result = result + 1/factorial(i)\n",
    "    \n",
    "    return result    \n",
    "\n",
    "# estimate the value of e with n = 10\n",
    "print(factorial(9))\n",
    "print(estimate_e(9))\n"
   ]
  },
  {
   "cell_type": "code",
   "execution_count": 21,
   "id": "f286be94-271a-49e9-b493-b2175d1572f7",
   "metadata": {},
   "outputs": [
    {
     "name": "stdout",
     "output_type": "stream",
     "text": [
      "362880\n"
     ]
    }
   ],
   "source": [
    "import math\n",
    "print(math.factorial(9))"
   ]
  },
  {
   "cell_type": "markdown",
   "id": "b51cde04-a2f2-4296-827d-9e68b7182cc7",
   "metadata": {},
   "source": [
    "### Compute quadratic root for the number N using Newton Method\n",
    "\n",
    "1. Set a value for: $x_0 $; $ n = 0 $ \\\n",
    "   $ (x_0 = N / 2) $\n",
    "\n",
    "2. Update using the formula:  \n",
    "   $\n",
    "   x_{n+1} = \\frac{x_n + \\frac{N}{x_n}}{2}\n",
    "  $\n",
    "\n",
    "3. Increment \\( n \\):  \n",
    " $( n = n + 1 )$\n",
    "\n",
    "4. Repeat steps 2 and 3.\n"
   ]
  },
  {
   "cell_type": "code",
   "execution_count": 22,
   "id": "650f6a27-8478-4b37-bf2c-d08d94de9a2d",
   "metadata": {},
   "outputs": [
    {
     "name": "stdout",
     "output_type": "stream",
     "text": [
      "4.5\n",
      "3.25\n",
      "3.0096153846153846\n",
      "3.000015360039322\n",
      "3.0000000000393214\n",
      "3.0\n",
      "3.0\n"
     ]
    }
   ],
   "source": [
    "def compute_square_root(N, num_loops):\n",
    "    '''\n",
    "    This function aims to compute square root for the number N\n",
    "    \n",
    "    N -- the number needs to take the square root\n",
    "    num_loops -- number of loops used for this optimization\n",
    "    '''\n",
    "    \n",
    "    x_n = N/2.0\n",
    "    print(x_n)\n",
    "    \n",
    "    for i in range(num_loops):\n",
    "        x_np1 = (x_n + N/x_n) / 2.0\n",
    "        x_n = x_np1\n",
    "        print(x_np1)\n",
    "        \n",
    "    return x_np1\n",
    "\n",
    "print(compute_square_root(N=9, num_loops=5))"
   ]
  },
  {
   "cell_type": "markdown",
   "id": "ad5011d0-749d-448d-b2c3-15ce829468af",
   "metadata": {},
   "source": [
    "## 2. While Loop<a name=\"part2\"></a>"
   ]
  },
  {
   "cell_type": "code",
   "execution_count": 1,
   "id": "98f38c0e-15ec-4c73-a607-a839baa0150f",
   "metadata": {},
   "outputs": [
    {
     "name": "stdout",
     "output_type": "stream",
     "text": [
      "The current value of i is 0\n",
      "The current value of i is 1\n",
      "The current value of i is 2\n",
      "The current value of i is 3\n",
      "The current value of i is 4\n",
      "The current value of i is 5\n",
      "The current value of i is 6\n",
      "The current value of i is 7\n",
      "The current value of i is 8\n",
      "The current value of i is 9\n"
     ]
    }
   ],
   "source": [
    "# iterate 2 variables n and i\n",
    "n = 10\n",
    "i = 0\n",
    "\n",
    "while i<n:\n",
    "    print('The current value of i is' , i)\n",
    "    i = i +1"
   ]
  },
  {
   "cell_type": "code",
   "execution_count": 2,
   "id": "2c09615b-ab52-46c4-a603-1d8a19387077",
   "metadata": {},
   "outputs": [
    {
     "name": "stdout",
     "output_type": "stream",
     "text": [
      "What happened?\n",
      "What happened?\n",
      "What happened?\n",
      "What happened?\n",
      "What happened?\n",
      "Nothing\n"
     ]
    }
   ],
   "source": [
    "i = 0\n",
    "\n",
    "# start the while loop\n",
    "while i<5:\n",
    "    print('What happened?')\n",
    "    i = i + 1\n",
    "print('Nothing')"
   ]
  },
  {
   "cell_type": "code",
   "execution_count": 5,
   "id": "e3dbac47-8e01-403b-bf59-71c0659d6949",
   "metadata": {},
   "outputs": [
    {
     "name": "stdout",
     "output_type": "stream",
     "text": [
      "The random number is  10\n",
      "The random number is  5\n",
      "It's enough\n"
     ]
    }
   ],
   "source": [
    "import random\n",
    "\n",
    "# run the unlimited while loop\n",
    "while True:\n",
    "    # a random number\n",
    "    num = random.randint(0,10)\n",
    "    print('The random number is ', num)\n",
    "\n",
    "\n",
    "    # check number equal to 5\n",
    "    if num == 5:\n",
    "        # nếu có thì thoát khỏi while\n",
    "        break;\n",
    "print(\"It's enough\")"
   ]
  },
  {
   "cell_type": "markdown",
   "id": "fa23113d-53c2-459b-b71d-9127d76d8bca",
   "metadata": {},
   "source": [
    "## 3. String <a name=\"part3\"></a>"
   ]
  },
  {
   "cell_type": "markdown",
   "id": "1f79f159-6784-4c93-bafa-b1b00996af73",
   "metadata": {},
   "source": [
    "## 4. File <a name=\"part4\"></a>"
   ]
  },
  {
   "cell_type": "markdown",
   "id": "ef00ee7a-71d7-4c04-8089-194aee091992",
   "metadata": {},
   "source": [
    "## 1. Variable <a name=\"part1\"></a>"
   ]
  },
  {
   "cell_type": "code",
   "execution_count": null,
   "id": "de26677e-7721-464d-814c-1e00c5c8cbae",
   "metadata": {},
   "outputs": [],
   "source": []
  }
 ],
 "metadata": {
  "kernelspec": {
   "display_name": "Python (.venv)",
   "language": "python",
   "name": ".venv"
  },
  "language_info": {
   "codemirror_mode": {
    "name": "ipython",
    "version": 3
   },
   "file_extension": ".py",
   "mimetype": "text/x-python",
   "name": "python",
   "nbconvert_exporter": "python",
   "pygments_lexer": "ipython3",
   "version": "3.12.4"
  }
 },
 "nbformat": 4,
 "nbformat_minor": 5
}
